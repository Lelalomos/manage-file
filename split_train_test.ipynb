{
 "cells": [
  {
   "cell_type": "code",
   "execution_count": 3,
   "metadata": {},
   "outputs": [],
   "source": [
    "import os\n",
    "import random \n",
    "import shutil"
   ]
  },
  {
   "cell_type": "code",
   "execution_count": 4,
   "metadata": {},
   "outputs": [
    {
     "data": {
      "text/plain": [
       "'D:\\\\Work\\\\python\\\\Licence_plate\\\\OpenCV_3_KNN_Character_Recognition_Python-master\\\\cnn_modell_train'"
      ]
     },
     "execution_count": 4,
     "metadata": {},
     "output_type": "execute_result"
    }
   ],
   "source": [
    "cwd = os.getcwd()\n",
    "cwd"
   ]
  },
  {
   "cell_type": "code",
   "execution_count": 5,
   "metadata": {},
   "outputs": [
    {
     "name": "stdout",
     "output_type": "stream",
     "text": [
      "0\n",
      "1\n",
      "2\n",
      "3\n",
      "4\n",
      "5\n",
      "6\n",
      "7\n",
      "8\n",
      "9\n",
      "TH-01\n",
      "TH-02\n",
      "TH-04\n",
      "TH-06\n",
      "TH-07\n",
      "TH-08\n",
      "TH-09\n",
      "TH-10\n",
      "TH-11\n",
      "TH-12\n",
      "TH-13\n",
      "TH-14\n",
      "TH-16\n",
      "TH-18\n",
      "TH-19\n",
      "TH-20\n",
      "TH-21\n",
      "TH-22\n",
      "TH-23\n",
      "TH-24\n",
      "TH-25\n",
      "TH-26\n",
      "TH-27\n",
      "TH-28\n",
      "TH-30\n",
      "TH-31\n",
      "TH-32\n",
      "TH-33\n",
      "TH-34\n",
      "TH-35\n",
      "TH-36\n",
      "TH-37\n",
      "TH-38\n",
      "TH-39\n",
      "TH-40\n",
      "TH-41\n",
      "TH-42\n",
      "TH-43\n",
      "TH-44\n"
     ]
    }
   ],
   "source": [
    "file_list = os.listdir(os.path.join(cwd,'train'))\n",
    "for folder in file_list:\n",
    "    os.mkdir(os.path.join(os.getcwd(),'test',folder))\n",
    "    print(folder)"
   ]
  },
  {
   "cell_type": "code",
   "execution_count": 11,
   "metadata": {},
   "outputs": [
    {
     "name": "stdout",
     "output_type": "stream",
     "text": [
      "D:\\Work\\python\\Licence_plate\\OpenCV_3_KNN_Character_Recognition_Python-master\\cnn_modell_train\\test\\0\n",
      "D:\\Work\\python\\Licence_plate\\OpenCV_3_KNN_Character_Recognition_Python-master\\cnn_modell_train\\test\\1\n",
      "D:\\Work\\python\\Licence_plate\\OpenCV_3_KNN_Character_Recognition_Python-master\\cnn_modell_train\\test\\2\n",
      "D:\\Work\\python\\Licence_plate\\OpenCV_3_KNN_Character_Recognition_Python-master\\cnn_modell_train\\test\\3\n",
      "D:\\Work\\python\\Licence_plate\\OpenCV_3_KNN_Character_Recognition_Python-master\\cnn_modell_train\\test\\4\n",
      "D:\\Work\\python\\Licence_plate\\OpenCV_3_KNN_Character_Recognition_Python-master\\cnn_modell_train\\test\\5\n",
      "D:\\Work\\python\\Licence_plate\\OpenCV_3_KNN_Character_Recognition_Python-master\\cnn_modell_train\\test\\6\n",
      "D:\\Work\\python\\Licence_plate\\OpenCV_3_KNN_Character_Recognition_Python-master\\cnn_modell_train\\test\\7\n",
      "D:\\Work\\python\\Licence_plate\\OpenCV_3_KNN_Character_Recognition_Python-master\\cnn_modell_train\\test\\8\n",
      "D:\\Work\\python\\Licence_plate\\OpenCV_3_KNN_Character_Recognition_Python-master\\cnn_modell_train\\test\\9\n",
      "D:\\Work\\python\\Licence_plate\\OpenCV_3_KNN_Character_Recognition_Python-master\\cnn_modell_train\\test\\TH-01\n",
      "D:\\Work\\python\\Licence_plate\\OpenCV_3_KNN_Character_Recognition_Python-master\\cnn_modell_train\\test\\TH-02\n",
      "D:\\Work\\python\\Licence_plate\\OpenCV_3_KNN_Character_Recognition_Python-master\\cnn_modell_train\\test\\TH-04\n",
      "D:\\Work\\python\\Licence_plate\\OpenCV_3_KNN_Character_Recognition_Python-master\\cnn_modell_train\\test\\TH-06\n",
      "D:\\Work\\python\\Licence_plate\\OpenCV_3_KNN_Character_Recognition_Python-master\\cnn_modell_train\\test\\TH-07\n",
      "D:\\Work\\python\\Licence_plate\\OpenCV_3_KNN_Character_Recognition_Python-master\\cnn_modell_train\\test\\TH-08\n",
      "D:\\Work\\python\\Licence_plate\\OpenCV_3_KNN_Character_Recognition_Python-master\\cnn_modell_train\\test\\TH-09\n",
      "D:\\Work\\python\\Licence_plate\\OpenCV_3_KNN_Character_Recognition_Python-master\\cnn_modell_train\\test\\TH-10\n",
      "D:\\Work\\python\\Licence_plate\\OpenCV_3_KNN_Character_Recognition_Python-master\\cnn_modell_train\\test\\TH-11\n",
      "D:\\Work\\python\\Licence_plate\\OpenCV_3_KNN_Character_Recognition_Python-master\\cnn_modell_train\\test\\TH-12\n",
      "D:\\Work\\python\\Licence_plate\\OpenCV_3_KNN_Character_Recognition_Python-master\\cnn_modell_train\\test\\TH-13\n",
      "D:\\Work\\python\\Licence_plate\\OpenCV_3_KNN_Character_Recognition_Python-master\\cnn_modell_train\\test\\TH-14\n",
      "D:\\Work\\python\\Licence_plate\\OpenCV_3_KNN_Character_Recognition_Python-master\\cnn_modell_train\\test\\TH-16\n",
      "D:\\Work\\python\\Licence_plate\\OpenCV_3_KNN_Character_Recognition_Python-master\\cnn_modell_train\\test\\TH-18\n",
      "D:\\Work\\python\\Licence_plate\\OpenCV_3_KNN_Character_Recognition_Python-master\\cnn_modell_train\\test\\TH-19\n",
      "D:\\Work\\python\\Licence_plate\\OpenCV_3_KNN_Character_Recognition_Python-master\\cnn_modell_train\\test\\TH-20\n",
      "D:\\Work\\python\\Licence_plate\\OpenCV_3_KNN_Character_Recognition_Python-master\\cnn_modell_train\\test\\TH-21\n",
      "D:\\Work\\python\\Licence_plate\\OpenCV_3_KNN_Character_Recognition_Python-master\\cnn_modell_train\\test\\TH-22\n",
      "D:\\Work\\python\\Licence_plate\\OpenCV_3_KNN_Character_Recognition_Python-master\\cnn_modell_train\\test\\TH-23\n",
      "D:\\Work\\python\\Licence_plate\\OpenCV_3_KNN_Character_Recognition_Python-master\\cnn_modell_train\\test\\TH-24\n",
      "D:\\Work\\python\\Licence_plate\\OpenCV_3_KNN_Character_Recognition_Python-master\\cnn_modell_train\\test\\TH-25\n",
      "D:\\Work\\python\\Licence_plate\\OpenCV_3_KNN_Character_Recognition_Python-master\\cnn_modell_train\\test\\TH-26\n",
      "D:\\Work\\python\\Licence_plate\\OpenCV_3_KNN_Character_Recognition_Python-master\\cnn_modell_train\\test\\TH-27\n",
      "D:\\Work\\python\\Licence_plate\\OpenCV_3_KNN_Character_Recognition_Python-master\\cnn_modell_train\\test\\TH-28\n",
      "D:\\Work\\python\\Licence_plate\\OpenCV_3_KNN_Character_Recognition_Python-master\\cnn_modell_train\\test\\TH-30\n",
      "D:\\Work\\python\\Licence_plate\\OpenCV_3_KNN_Character_Recognition_Python-master\\cnn_modell_train\\test\\TH-31\n",
      "D:\\Work\\python\\Licence_plate\\OpenCV_3_KNN_Character_Recognition_Python-master\\cnn_modell_train\\test\\TH-32\n",
      "D:\\Work\\python\\Licence_plate\\OpenCV_3_KNN_Character_Recognition_Python-master\\cnn_modell_train\\test\\TH-33\n",
      "D:\\Work\\python\\Licence_plate\\OpenCV_3_KNN_Character_Recognition_Python-master\\cnn_modell_train\\test\\TH-34\n",
      "D:\\Work\\python\\Licence_plate\\OpenCV_3_KNN_Character_Recognition_Python-master\\cnn_modell_train\\test\\TH-35\n",
      "D:\\Work\\python\\Licence_plate\\OpenCV_3_KNN_Character_Recognition_Python-master\\cnn_modell_train\\test\\TH-36\n",
      "D:\\Work\\python\\Licence_plate\\OpenCV_3_KNN_Character_Recognition_Python-master\\cnn_modell_train\\test\\TH-37\n",
      "D:\\Work\\python\\Licence_plate\\OpenCV_3_KNN_Character_Recognition_Python-master\\cnn_modell_train\\test\\TH-38\n",
      "D:\\Work\\python\\Licence_plate\\OpenCV_3_KNN_Character_Recognition_Python-master\\cnn_modell_train\\test\\TH-39\n",
      "D:\\Work\\python\\Licence_plate\\OpenCV_3_KNN_Character_Recognition_Python-master\\cnn_modell_train\\test\\TH-40\n",
      "D:\\Work\\python\\Licence_plate\\OpenCV_3_KNN_Character_Recognition_Python-master\\cnn_modell_train\\test\\TH-41\n",
      "D:\\Work\\python\\Licence_plate\\OpenCV_3_KNN_Character_Recognition_Python-master\\cnn_modell_train\\test\\TH-42\n",
      "D:\\Work\\python\\Licence_plate\\OpenCV_3_KNN_Character_Recognition_Python-master\\cnn_modell_train\\test\\TH-43\n",
      "D:\\Work\\python\\Licence_plate\\OpenCV_3_KNN_Character_Recognition_Python-master\\cnn_modell_train\\test\\TH-44\n"
     ]
    }
   ],
   "source": [
    "# path_folder = os.path.join(cwd,'dataset_train_test')\n",
    "for file_0 in os.listdir(os.path.join(cwd,'train')):\n",
    "    file_list = os.listdir(os.path.join(cwd,'train',file_0))\n",
    "    file_cal = int(len(os.listdir(os.path.join(cwd,'train',file_0)))*0.2)\n",
    "#     print(file_cal*-1)\n",
    "    random.shuffle(file_list)\n",
    "    print(os.path.join(os.getcwd(),'test',file_0))\n",
    "    test = file_list[file_cal*-1:]\n",
    "    for filemove in os.listdir(os.path.join(cwd,'train',file_0)):\n",
    "        if filemove in test:\n",
    "            shutil.move(os.path.join(os.getcwd(),'train',file_0,filemove),os.path.join(os.getcwd(),'test',file_0,filemove))\n",
    "            "
   ]
  }
 ],
 "metadata": {
  "kernelspec": {
   "display_name": "Python 3",
   "language": "python",
   "name": "python3"
  },
  "language_info": {
   "codemirror_mode": {
    "name": "ipython",
    "version": 3
   },
   "file_extension": ".py",
   "mimetype": "text/x-python",
   "name": "python",
   "nbconvert_exporter": "python",
   "pygments_lexer": "ipython3",
   "version": "3.7.0"
  }
 },
 "nbformat": 4,
 "nbformat_minor": 4
}
